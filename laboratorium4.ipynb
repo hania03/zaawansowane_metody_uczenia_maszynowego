{
  "nbformat": 4,
  "nbformat_minor": 0,
  "metadata": {
    "colab": {
      "provenance": []
    },
    "kernelspec": {
      "name": "python3",
      "display_name": "Python 3"
    },
    "language_info": {
      "name": "python"
    }
  },
  "cells": [
    {
      "cell_type": "markdown",
      "source": [
        "# Zadanie 1\n",
        "*Regresja liniowa*"
      ],
      "metadata": {
        "id": "dZSEz67gMX5F"
      }
    },
    {
      "cell_type": "markdown",
      "source": [
        "1. Weryfikacja poprawności danych"
      ],
      "metadata": {
        "id": "wVXnPvaHM4hI"
      }
    },
    {
      "cell_type": "code",
      "execution_count": 1,
      "metadata": {
        "colab": {
          "base_uri": "https://localhost:8080/"
        },
        "id": "cSfbz_f6MQcf",
        "outputId": "7bce17a9-08d1-4b03-c9b1-fd351d81403d"
      },
      "outputs": [
        {
          "output_type": "stream",
          "name": "stdout",
          "text": [
            "(6435, 8)\n",
            "<bound method NDFrame.head of       Store        Date  Weekly_Sales  Holiday_Flag  Temperature  Fuel_Price  \\\n",
            "0         1  05-02-2010    1643690.90             0        42.31       2.572   \n",
            "1         1  12-02-2010    1641957.44             1        38.51       2.548   \n",
            "2         1  19-02-2010    1611968.17             0        39.93       2.514   \n",
            "3         1  26-02-2010    1409727.59             0        46.63       2.561   \n",
            "4         1  05-03-2010    1554806.68             0        46.50       2.625   \n",
            "...     ...         ...           ...           ...          ...         ...   \n",
            "6430     45  28-09-2012     713173.95             0        64.88       3.997   \n",
            "6431     45  05-10-2012     733455.07             0        64.89       3.985   \n",
            "6432     45  12-10-2012     734464.36             0        54.47       4.000   \n",
            "6433     45  19-10-2012     718125.53             0        56.47       3.969   \n",
            "6434     45  26-10-2012     760281.43             0        58.85       3.882   \n",
            "\n",
            "             CPI  Unemployment  \n",
            "0     211.096358         8.106  \n",
            "1     211.242170         8.106  \n",
            "2     211.289143         8.106  \n",
            "3     211.319643         8.106  \n",
            "4     211.350143         8.106  \n",
            "...          ...           ...  \n",
            "6430  192.013558         8.684  \n",
            "6431  192.170412         8.667  \n",
            "6432  192.327265         8.667  \n",
            "6433  192.330854         8.667  \n",
            "6434  192.308899         8.667  \n",
            "\n",
            "[6435 rows x 8 columns]>\n",
            "Store             int64\n",
            "Date             object\n",
            "Weekly_Sales    float64\n",
            "Holiday_Flag      int64\n",
            "Temperature     float64\n",
            "Fuel_Price      float64\n",
            "CPI             float64\n",
            "Unemployment    float64\n",
            "dtype: object\n"
          ]
        }
      ],
      "source": [
        "import pandas as pd\n",
        "\n",
        "df = pd.read_csv('Walmart.csv')\n",
        "\n",
        "# Sprawdzenie rozmiaru DataFrame\n",
        "print(df.shape)\n",
        "\n",
        "# Wyświetlenie pierwszych 5 wierszy\n",
        "print(df.head)\n",
        "\n",
        "# Sprawdzenie typów kolumn\n",
        "print(df.dtypes)"
      ]
    },
    {
      "cell_type": "markdown",
      "source": [
        "2. Sprawdzenie, jakie kolumny zawiera zbiór, jakie są ich typy oraz jakie statystyki opisowe\n",
        "generuje metoda."
      ],
      "metadata": {
        "id": "PtL3sG94NaZu"
      }
    },
    {
      "cell_type": "code",
      "source": [
        "# Nazwy kolumn\n",
        "print(df.columns)\n",
        "\n",
        "# Typy kolumn\n",
        "print(df.dtypes)\n",
        "\n",
        "# Statystyki opisowe\n",
        "print(df.describe())"
      ],
      "metadata": {
        "colab": {
          "base_uri": "https://localhost:8080/"
        },
        "id": "rxAoQQ6_NhNy",
        "outputId": "7299e868-ed6c-4a7c-ee04-30f6447434d1"
      },
      "execution_count": 26,
      "outputs": [
        {
          "output_type": "stream",
          "name": "stdout",
          "text": [
            "Index(['Store', 'Date', 'Weekly_Sales', 'Temperature', 'Fuel_Price', 'CPI',\n",
            "       'Unemployment', 'Holiday_Flag_0', 'Holiday_Flag_1'],\n",
            "      dtype='object')\n",
            "Store             category\n",
            "Date               float64\n",
            "Weekly_Sales       float64\n",
            "Temperature        float64\n",
            "Fuel_Price         float64\n",
            "CPI                float64\n",
            "Unemployment       float64\n",
            "Holiday_Flag_0        bool\n",
            "Holiday_Flag_1        bool\n",
            "dtype: object\n",
            "         Date  Weekly_Sales  Temperature   Fuel_Price          CPI  \\\n",
            "count  6435.0  6.435000e+03  6435.000000  6435.000000  6435.000000   \n",
            "mean      0.0  1.046965e+06    60.663782     3.358607   171.578394   \n",
            "std       0.0  5.643666e+05    18.444933     0.459020    39.356712   \n",
            "min       0.0  2.099862e+05    -2.060000     2.472000   126.064000   \n",
            "25%       0.0  5.533501e+05    47.460000     2.933000   131.735000   \n",
            "50%       0.0  9.607460e+05    62.670000     3.445000   182.616521   \n",
            "75%       0.0  1.420159e+06    74.940000     3.735000   212.743293   \n",
            "max       0.0  3.818686e+06   100.140000     4.468000   227.232807   \n",
            "\n",
            "       Unemployment  \n",
            "count   6435.000000  \n",
            "mean       7.999151  \n",
            "std        1.875885  \n",
            "min        3.879000  \n",
            "25%        6.891000  \n",
            "50%        7.874000  \n",
            "75%        8.622000  \n",
            "max       14.313000  \n"
          ]
        }
      ]
    },
    {
      "cell_type": "markdown",
      "source": [
        "3. Brakujące dane i uzupełnienie ich metodą imputacji."
      ],
      "metadata": {
        "id": "21XUda-wN332"
      }
    },
    {
      "cell_type": "code",
      "source": [
        "# Identyfikacja brakujących wartości\n",
        "print(df.isnull().sum())"
      ],
      "metadata": {
        "colab": {
          "base_uri": "https://localhost:8080/"
        },
        "id": "ayBd5YD0N8qW",
        "outputId": "4e9a79c2-bfe0-4413-8a94-12644a56fd48"
      },
      "execution_count": 11,
      "outputs": [
        {
          "output_type": "stream",
          "name": "stdout",
          "text": [
            "Store           0\n",
            "Date            0\n",
            "Weekly_Sales    0\n",
            "Holiday_Flag    0\n",
            "Temperature     0\n",
            "Fuel_Price      0\n",
            "CPI             0\n",
            "Unemployment    0\n",
            "dtype: int64\n"
          ]
        }
      ]
    },
    {
      "cell_type": "code",
      "source": [
        "from sklearn.impute import SimpleImputer\n",
        "\n",
        "# Tworzenie imputerów dla zmiennych nymerycznych i kategorycznych\n",
        "imputer_num = SimpleImputer(strategy='mean')\n",
        "imputer_cat = SimpleImputer(strategy='most_frequent')\n",
        "\n",
        "#Imputacja dla zmiennych numerycznych\n",
        "df[['Unemployment']] = imputer_num.fit_transform(df[['Unemployment']])\n",
        "\n",
        "# Imputacja dla zmiennych kategorycznych\n",
        "df[['Date']] = imputer_cat.fit_transform(df[['Date']])"
      ],
      "metadata": {
        "id": "dPS6fkglOMFk"
      },
      "execution_count": 10,
      "outputs": []
    },
    {
      "cell_type": "markdown",
      "source": [
        "4. Wykrycie i usunięcie ewentualnych duplikatów oraz zbadanie, czy występują ekstremalne wartości,\n",
        "które mogą zniekształcić model. Sporządzono wykresy."
      ],
      "metadata": {
        "id": "4nKYUc1cPvw3"
      }
    },
    {
      "cell_type": "code",
      "source": [
        "# Usunięcie zduplikowanych wierszy\n",
        "df = df.drop_duplicates()"
      ],
      "metadata": {
        "id": "HbuET_saP4YY"
      },
      "execution_count": 12,
      "outputs": []
    },
    {
      "cell_type": "code",
      "source": [
        "import matplotlib.pyplot as plt\n",
        "import seaborn as sns\n",
        "\n",
        "# Histogram dla zmiennej numerycznej\n",
        "sns.histplot(df['Unemployment'], kde=True)\n",
        "plt.show()\n",
        "\n",
        "# Boxplot dla zmiennej numerycznej\n",
        "sns.boxplot(x=df['Unemployment'])\n",
        "plt.show()"
      ],
      "metadata": {
        "colab": {
          "base_uri": "https://localhost:8080/",
          "height": 881
        },
        "id": "yUfwlOeAQBko",
        "outputId": "5a13976d-3f54-4fcf-df13-f6794bd016bc"
      },
      "execution_count": 25,
      "outputs": [
        {
          "output_type": "display_data",
          "data": {
            "text/plain": [
              "<Figure size 640x480 with 1 Axes>"
            ],
            "image/png": "[encoded data removed]"
          },
          "metadata": {}
        },
        {
          "output_type": "display_data",
          "data": {
            "text/plain": [
              "<Figure size 640x480 with 1 Axes>"
            ],
            "image/png": "[encoded data removed]"
          },
          "metadata": {}
        }
      ]
    },
    {
      "cell_type": "markdown",
      "source": [
        "5. Obliczono macierz korelacji i przedstawiono ją jako heatmapę, aby ocenić, które zmienne\n",
        "silnie współzależne ze sobą mogą wpłynąć na model."
      ],
      "metadata": {
        "id": "STEb6_QSQgHp"
      }
    },
    {
      "cell_type": "code",
      "source": [
        "import numpy as np\n",
        "df['Date'] = pd.to_datetime(df['Date'], dayfirst=True)\n",
        "df['Date'] = df['Date'].astype(int) / 10**9\n",
        "\n",
        "numeric_df = df.select_dtypes(include=[np.number])\n",
        "corr_matrix = numeric_df.corr()\n",
        "\n",
        "# Macierz korelacji\n",
        "corr_matrix = numeric_df.corr()\n",
        "\n",
        "# Wizualizacja macierzy korelacji jako heatmapy\n",
        "sns.heatmap(corr_matrix, annot=True)\n",
        "plt.show()"
      ],
      "metadata": {
        "colab": {
          "base_uri": "https://localhost:8080/",
          "height": 528
        },
        "id": "IEaMb71iQnin",
        "outputId": "afcb1cfe-db70-4af4-8b28-f47276e9e870"
      },
      "execution_count": 24,
      "outputs": [
        {
          "output_type": "display_data",
          "data": {
            "text/plain": [
              "<Figure size 640x480 with 2 Axes>"
            ],
            "image/png": "[encoded data removed]"
          },
          "metadata": {}
        }
      ]
    },
    {
      "cell_type": "markdown",
      "source": [
        "6. Przekonwertowano kolumny z datami do typu datetime (w punkcie 5) oraz kolumny kategoryczne do\n",
        "typu category."
      ],
      "metadata": {
        "id": "0O6yHBVSRr9j"
      }
    },
    {
      "cell_type": "code",
      "source": [
        "# Konwersja kolumny kategorycznej na typ category\n",
        "df['Store'] = df['Store'].astype('category')\n",
        "df['Holiday_Flag'] = df['Holiday_Flag'].astype('category')\n",
        "\n",
        "# Sprawdzanie wyników\n",
        "print(df.dtypes)\n",
        "print(df)"
      ],
      "metadata": {
        "colab": {
          "base_uri": "https://localhost:8080/",
          "height": 561
        },
        "id": "YNI-vTSyRrV7",
        "outputId": "634c1290-a06b-4e6d-f7f1-adc802ded32e"
      },
      "execution_count": 23,
      "outputs": [
        {
          "output_type": "error",
          "ename": "KeyError",
          "evalue": "'Holiday_Flag'",
          "traceback": [
            "\u001b[0;31m---------------------------------------------------------------------------\u001b[0m",
            "\u001b[0;31mKeyError\u001b[0m                                  Traceback (most recent call last)",
            "\u001b[0;32m/usr/local/lib/python3.11/dist-packages/pandas/core/indexes/base.py\u001b[0m in \u001b[0;36mget_loc\u001b[0;34m(self, key)\u001b[0m\n\u001b[1;32m   3804\u001b[0m         \u001b[0;32mtry\u001b[0m\u001b[0;34m:\u001b[0m\u001b[0;34m\u001b[0m\u001b[0;34m\u001b[0m\u001b[0m\n\u001b[0;32m-> 3805\u001b[0;31m             \u001b[0;32mreturn\u001b[0m \u001b[0mself\u001b[0m\u001b[0;34m.\u001b[0m\u001b[0m_engine\u001b[0m\u001b[0;34m.\u001b[0m\u001b[0mget_loc\u001b[0m\u001b[0;34m(\u001b[0m\u001b[0mcasted_key\u001b[0m\u001b[0;34m)\u001b[0m\u001b[0;34m\u001b[0m\u001b[0;34m\u001b[0m\u001b[0m\n\u001b[0m\u001b[1;32m   3806\u001b[0m         \u001b[0;32mexcept\u001b[0m \u001b[0mKeyError\u001b[0m \u001b[0;32mas\u001b[0m \u001b[0merr\u001b[0m\u001b[0;34m:\u001b[0m\u001b[0;34m\u001b[0m\u001b[0;34m\u001b[0m\u001b[0m\n",
            "\u001b[0;32mindex.pyx\u001b[0m in \u001b[0;36mpandas._libs.index.IndexEngine.get_loc\u001b[0;34m()\u001b[0m\n",
            "\u001b[0;32mindex.pyx\u001b[0m in \u001b[0;36mpandas._libs.index.IndexEngine.get_loc\u001b[0;34m()\u001b[0m\n",
            "\u001b[0;32mpandas/_libs/hashtable_class_helper.pxi\u001b[0m in \u001b[0;36mpandas._libs.hashtable.PyObjectHashTable.get_item\u001b[0;34m()\u001b[0m\n",
            "\u001b[0;32mpandas/_libs/hashtable_class_helper.pxi\u001b[0m in \u001b[0;36mpandas._libs.hashtable.PyObjectHashTable.get_item\u001b[0;34m()\u001b[0m\n",
            "\u001b[0;31mKeyError\u001b[0m: 'Holiday_Flag'",
            "\nThe above exception was the direct cause of the following exception:\n",
            "\u001b[0;31mKeyError\u001b[0m                                  Traceback (most recent call last)",
            "\u001b[0;32m<ipython-input-23-e21d84b6f75d>\u001b[0m in \u001b[0;36m<cell line: 0>\u001b[0;34m()\u001b[0m\n\u001b[1;32m      1\u001b[0m \u001b[0;31m# Konwersja kolumny kategorycznej na typ category\u001b[0m\u001b[0;34m\u001b[0m\u001b[0;34m\u001b[0m\u001b[0m\n\u001b[1;32m      2\u001b[0m \u001b[0mdf\u001b[0m\u001b[0;34m[\u001b[0m\u001b[0;34m'Store'\u001b[0m\u001b[0;34m]\u001b[0m \u001b[0;34m=\u001b[0m \u001b[0mdf\u001b[0m\u001b[0;34m[\u001b[0m\u001b[0;34m'Store'\u001b[0m\u001b[0;34m]\u001b[0m\u001b[0;34m.\u001b[0m\u001b[0mastype\u001b[0m\u001b[0;34m(\u001b[0m\u001b[0;34m'category'\u001b[0m\u001b[0;34m)\u001b[0m\u001b[0;34m\u001b[0m\u001b[0;34m\u001b[0m\u001b[0m\n\u001b[0;32m----> 3\u001b[0;31m \u001b[0mdf\u001b[0m\u001b[0;34m[\u001b[0m\u001b[0;34m'Holiday_Flag'\u001b[0m\u001b[0;34m]\u001b[0m \u001b[0;34m=\u001b[0m \u001b[0mdf\u001b[0m\u001b[0;34m[\u001b[0m\u001b[0;34m'Holiday_Flag'\u001b[0m\u001b[0;34m]\u001b[0m\u001b[0;34m.\u001b[0m\u001b[0mastype\u001b[0m\u001b[0;34m(\u001b[0m\u001b[0;34m'category'\u001b[0m\u001b[0;34m)\u001b[0m\u001b[0;34m\u001b[0m\u001b[0;34m\u001b[0m\u001b[0m\n\u001b[0m\u001b[1;32m      4\u001b[0m \u001b[0;34m\u001b[0m\u001b[0m\n\u001b[1;32m      5\u001b[0m \u001b[0;31m# Sprawdzanie wyników\u001b[0m\u001b[0;34m\u001b[0m\u001b[0;34m\u001b[0m\u001b[0m\n",
            "\u001b[0;32m/usr/local/lib/python3.11/dist-packages/pandas/core/frame.py\u001b[0m in \u001b[0;36m__getitem__\u001b[0;34m(self, key)\u001b[0m\n\u001b[1;32m   4100\u001b[0m             \u001b[0;32mif\u001b[0m \u001b[0mself\u001b[0m\u001b[0;34m.\u001b[0m\u001b[0mcolumns\u001b[0m\u001b[0;34m.\u001b[0m\u001b[0mnlevels\u001b[0m \u001b[0;34m>\u001b[0m \u001b[0;36m1\u001b[0m\u001b[0;34m:\u001b[0m\u001b[0;34m\u001b[0m\u001b[0;34m\u001b[0m\u001b[0m\n\u001b[1;32m   4101\u001b[0m                 \u001b[0;32mreturn\u001b[0m \u001b[0mself\u001b[0m\u001b[0;34m.\u001b[0m\u001b[0m_getitem_multilevel\u001b[0m\u001b[0;34m(\u001b[0m\u001b[0mkey\u001b[0m\u001b[0;34m)\u001b[0m\u001b[0;34m\u001b[0m\u001b[0;34m\u001b[0m\u001b[0m\n\u001b[0;32m-> 4102\u001b[0;31m             \u001b[0mindexer\u001b[0m \u001b[0;34m=\u001b[0m \u001b[0mself\u001b[0m\u001b[0;34m.\u001b[0m\u001b[0mcolumns\u001b[0m\u001b[0;34m.\u001b[0m\u001b[0mget_loc\u001b[0m\u001b[0;34m(\u001b[0m\u001b[0mkey\u001b[0m\u001b[0;34m)\u001b[0m\u001b[0;34m\u001b[0m\u001b[0;34m\u001b[0m\u001b[0m\n\u001b[0m\u001b[1;32m   4103\u001b[0m             \u001b[0;32mif\u001b[0m \u001b[0mis_integer\u001b[0m\u001b[0;34m(\u001b[0m\u001b[0mindexer\u001b[0m\u001b[0;34m)\u001b[0m\u001b[0;34m:\u001b[0m\u001b[0;34m\u001b[0m\u001b[0;34m\u001b[0m\u001b[0m\n\u001b[1;32m   4104\u001b[0m                 \u001b[0mindexer\u001b[0m \u001b[0;34m=\u001b[0m \u001b[0;34m[\u001b[0m\u001b[0mindexer\u001b[0m\u001b[0;34m]\u001b[0m\u001b[0;34m\u001b[0m\u001b[0;34m\u001b[0m\u001b[0m\n",
            "\u001b[0;32m/usr/local/lib/python3.11/dist-packages/pandas/core/indexes/base.py\u001b[0m in \u001b[0;36mget_loc\u001b[0;34m(self, key)\u001b[0m\n\u001b[1;32m   3810\u001b[0m             ):\n\u001b[1;32m   3811\u001b[0m                 \u001b[0;32mraise\u001b[0m \u001b[0mInvalidIndexError\u001b[0m\u001b[0;34m(\u001b[0m\u001b[0mkey\u001b[0m\u001b[0;34m)\u001b[0m\u001b[0;34m\u001b[0m\u001b[0;34m\u001b[0m\u001b[0m\n\u001b[0;32m-> 3812\u001b[0;31m             \u001b[0;32mraise\u001b[0m \u001b[0mKeyError\u001b[0m\u001b[0;34m(\u001b[0m\u001b[0mkey\u001b[0m\u001b[0;34m)\u001b[0m \u001b[0;32mfrom\u001b[0m \u001b[0merr\u001b[0m\u001b[0;34m\u001b[0m\u001b[0;34m\u001b[0m\u001b[0m\n\u001b[0m\u001b[1;32m   3813\u001b[0m         \u001b[0;32mexcept\u001b[0m \u001b[0mTypeError\u001b[0m\u001b[0;34m:\u001b[0m\u001b[0;34m\u001b[0m\u001b[0;34m\u001b[0m\u001b[0m\n\u001b[1;32m   3814\u001b[0m             \u001b[0;31m# If we have a listlike key, _check_indexing_error will raise\u001b[0m\u001b[0;34m\u001b[0m\u001b[0;34m\u001b[0m\u001b[0m\n",
            "\u001b[0;31mKeyError\u001b[0m: 'Holiday_Flag'"
          ]
        }
      ]
    },
    {
      "cell_type": "markdown",
      "source": [
        "7. Zastosowano metody kodowania: one-hot encoding lub label encoding dla kolumn kategorycznych. Wykonaj normalizację danych."
      ],
      "metadata": {
        "id": "pZUcEAOlSVNq"
      }
    },
    {
      "cell_type": "code",
      "source": [
        "# One-hot encoding dla kolumny Holiday_Flag\n",
        "# df = pd.get_dummies(df, columns=['Holiday_Flag'])\n",
        "\n",
        "# Label encoding dla kolumny Store\n",
        "# df['Store'] = df['Store'].cat.codes\n",
        "\n",
        "# Normalizacja danych\n",
        "# from sklearn.preprocessing import MinMaxScaler\n",
        "\n",
        "# scaler = MinMaxScaler()\n",
        "# df[['Temperature', 'Fuel_Price', 'Unemployment', 'CPI']] = scaler.fit_transform(df[['Temperature', 'Fuel_Price', 'Unemployment', 'CPI']])\n",
        "# print(df.head())"
      ],
      "metadata": {
        "colab": {
          "base_uri": "https://localhost:8080/",
          "height": 472
        },
        "collapsed": true,
        "id": "Gfp4uVAeSU6K",
        "outputId": "26a1a73e-4e2e-4432-d4cf-9405ff37ff6f"
      },
      "execution_count": 22,
      "outputs": [
        {
          "output_type": "error",
          "ename": "KeyError",
          "evalue": "\"None of [Index(['Holiday_Flag'], dtype='object')] are in the [columns]\"",
          "traceback": [
            "\u001b[0;31m---------------------------------------------------------------------------\u001b[0m",
            "\u001b[0;31mKeyError\u001b[0m                                  Traceback (most recent call last)",
            "\u001b[0;32m<ipython-input-22-09405155fb87>\u001b[0m in \u001b[0;36m<cell line: 0>\u001b[0;34m()\u001b[0m\n\u001b[1;32m      1\u001b[0m \u001b[0;31m# One-hot encoding dla kolumny Holiday_Flag\u001b[0m\u001b[0;34m\u001b[0m\u001b[0;34m\u001b[0m\u001b[0m\n\u001b[0;32m----> 2\u001b[0;31m \u001b[0mdf\u001b[0m \u001b[0;34m=\u001b[0m \u001b[0mpd\u001b[0m\u001b[0;34m.\u001b[0m\u001b[0mget_dummies\u001b[0m\u001b[0;34m(\u001b[0m\u001b[0mdf\u001b[0m\u001b[0;34m,\u001b[0m \u001b[0mcolumns\u001b[0m\u001b[0;34m=\u001b[0m\u001b[0;34m[\u001b[0m\u001b[0;34m'Holiday_Flag'\u001b[0m\u001b[0;34m]\u001b[0m\u001b[0;34m)\u001b[0m\u001b[0;34m\u001b[0m\u001b[0;34m\u001b[0m\u001b[0m\n\u001b[0m\u001b[1;32m      3\u001b[0m \u001b[0;34m\u001b[0m\u001b[0m\n\u001b[1;32m      4\u001b[0m \u001b[0;31m# Label encoding dla kolumny Store\u001b[0m\u001b[0;34m\u001b[0m\u001b[0;34m\u001b[0m\u001b[0m\n\u001b[1;32m      5\u001b[0m \u001b[0mdf\u001b[0m\u001b[0;34m[\u001b[0m\u001b[0;34m'Store'\u001b[0m\u001b[0;34m]\u001b[0m \u001b[0;34m=\u001b[0m \u001b[0mdf\u001b[0m\u001b[0;34m[\u001b[0m\u001b[0;34m'Store'\u001b[0m\u001b[0;34m]\u001b[0m\u001b[0;34m.\u001b[0m\u001b[0mcat\u001b[0m\u001b[0;34m.\u001b[0m\u001b[0mcodes\u001b[0m\u001b[0;34m\u001b[0m\u001b[0;34m\u001b[0m\u001b[0m\n",
            "\u001b[0;32m/usr/local/lib/python3.11/dist-packages/pandas/core/reshape/encoding.py\u001b[0m in \u001b[0;36mget_dummies\u001b[0;34m(data, prefix, prefix_sep, dummy_na, columns, sparse, drop_first, dtype)\u001b[0m\n\u001b[1;32m    167\u001b[0m             \u001b[0;32mraise\u001b[0m \u001b[0mTypeError\u001b[0m\u001b[0;34m(\u001b[0m\u001b[0;34m\"Input must be a list-like for parameter `columns`\"\u001b[0m\u001b[0;34m)\u001b[0m\u001b[0;34m\u001b[0m\u001b[0;34m\u001b[0m\u001b[0m\n\u001b[1;32m    168\u001b[0m         \u001b[0;32melse\u001b[0m\u001b[0;34m:\u001b[0m\u001b[0;34m\u001b[0m\u001b[0;34m\u001b[0m\u001b[0m\n\u001b[0;32m--> 169\u001b[0;31m             \u001b[0mdata_to_encode\u001b[0m \u001b[0;34m=\u001b[0m \u001b[0mdata\u001b[0m\u001b[0;34m[\u001b[0m\u001b[0mcolumns\u001b[0m\u001b[0;34m]\u001b[0m\u001b[0;34m\u001b[0m\u001b[0;34m\u001b[0m\u001b[0m\n\u001b[0m\u001b[1;32m    170\u001b[0m \u001b[0;34m\u001b[0m\u001b[0m\n\u001b[1;32m    171\u001b[0m         \u001b[0;31m# validate prefixes and separator to avoid silently dropping cols\u001b[0m\u001b[0;34m\u001b[0m\u001b[0;34m\u001b[0m\u001b[0m\n",
            "\u001b[0;32m/usr/local/lib/python3.11/dist-packages/pandas/core/frame.py\u001b[0m in \u001b[0;36m__getitem__\u001b[0;34m(self, key)\u001b[0m\n\u001b[1;32m   4106\u001b[0m             \u001b[0;32mif\u001b[0m \u001b[0mis_iterator\u001b[0m\u001b[0;34m(\u001b[0m\u001b[0mkey\u001b[0m\u001b[0;34m)\u001b[0m\u001b[0;34m:\u001b[0m\u001b[0;34m\u001b[0m\u001b[0;34m\u001b[0m\u001b[0m\n\u001b[1;32m   4107\u001b[0m                 \u001b[0mkey\u001b[0m \u001b[0;34m=\u001b[0m \u001b[0mlist\u001b[0m\u001b[0;34m(\u001b[0m\u001b[0mkey\u001b[0m\u001b[0;34m)\u001b[0m\u001b[0;34m\u001b[0m\u001b[0;34m\u001b[0m\u001b[0m\n\u001b[0;32m-> 4108\u001b[0;31m             \u001b[0mindexer\u001b[0m \u001b[0;34m=\u001b[0m \u001b[0mself\u001b[0m\u001b[0;34m.\u001b[0m\u001b[0mcolumns\u001b[0m\u001b[0;34m.\u001b[0m\u001b[0m_get_indexer_strict\u001b[0m\u001b[0;34m(\u001b[0m\u001b[0mkey\u001b[0m\u001b[0;34m,\u001b[0m \u001b[0;34m\"columns\"\u001b[0m\u001b[0;34m)\u001b[0m\u001b[0;34m[\u001b[0m\u001b[0;36m1\u001b[0m\u001b[0;34m]\u001b[0m\u001b[0;34m\u001b[0m\u001b[0;34m\u001b[0m\u001b[0m\n\u001b[0m\u001b[1;32m   4109\u001b[0m \u001b[0;34m\u001b[0m\u001b[0m\n\u001b[1;32m   4110\u001b[0m         \u001b[0;31m# take() does not accept boolean indexers\u001b[0m\u001b[0;34m\u001b[0m\u001b[0;34m\u001b[0m\u001b[0m\n",
            "\u001b[0;32m/usr/local/lib/python3.11/dist-packages/pandas/core/indexes/base.py\u001b[0m in \u001b[0;36m_get_indexer_strict\u001b[0;34m(self, key, axis_name)\u001b[0m\n\u001b[1;32m   6198\u001b[0m             \u001b[0mkeyarr\u001b[0m\u001b[0;34m,\u001b[0m \u001b[0mindexer\u001b[0m\u001b[0;34m,\u001b[0m \u001b[0mnew_indexer\u001b[0m \u001b[0;34m=\u001b[0m \u001b[0mself\u001b[0m\u001b[0;34m.\u001b[0m\u001b[0m_reindex_non_unique\u001b[0m\u001b[0;34m(\u001b[0m\u001b[0mkeyarr\u001b[0m\u001b[0;34m)\u001b[0m\u001b[0;34m\u001b[0m\u001b[0;34m\u001b[0m\u001b[0m\n\u001b[1;32m   6199\u001b[0m \u001b[0;34m\u001b[0m\u001b[0m\n\u001b[0;32m-> 6200\u001b[0;31m         \u001b[0mself\u001b[0m\u001b[0;34m.\u001b[0m\u001b[0m_raise_if_missing\u001b[0m\u001b[0;34m(\u001b[0m\u001b[0mkeyarr\u001b[0m\u001b[0;34m,\u001b[0m \u001b[0mindexer\u001b[0m\u001b[0;34m,\u001b[0m \u001b[0maxis_name\u001b[0m\u001b[0;34m)\u001b[0m\u001b[0;34m\u001b[0m\u001b[0;34m\u001b[0m\u001b[0m\n\u001b[0m\u001b[1;32m   6201\u001b[0m \u001b[0;34m\u001b[0m\u001b[0m\n\u001b[1;32m   6202\u001b[0m         \u001b[0mkeyarr\u001b[0m \u001b[0;34m=\u001b[0m \u001b[0mself\u001b[0m\u001b[0;34m.\u001b[0m\u001b[0mtake\u001b[0m\u001b[0;34m(\u001b[0m\u001b[0mindexer\u001b[0m\u001b[0;34m)\u001b[0m\u001b[0;34m\u001b[0m\u001b[0;34m\u001b[0m\u001b[0m\n",
            "\u001b[0;32m/usr/local/lib/python3.11/dist-packages/pandas/core/indexes/base.py\u001b[0m in \u001b[0;36m_raise_if_missing\u001b[0;34m(self, key, indexer, axis_name)\u001b[0m\n\u001b[1;32m   6247\u001b[0m         \u001b[0;32mif\u001b[0m \u001b[0mnmissing\u001b[0m\u001b[0;34m:\u001b[0m\u001b[0;34m\u001b[0m\u001b[0;34m\u001b[0m\u001b[0m\n\u001b[1;32m   6248\u001b[0m             \u001b[0;32mif\u001b[0m \u001b[0mnmissing\u001b[0m \u001b[0;34m==\u001b[0m \u001b[0mlen\u001b[0m\u001b[0;34m(\u001b[0m\u001b[0mindexer\u001b[0m\u001b[0;34m)\u001b[0m\u001b[0;34m:\u001b[0m\u001b[0;34m\u001b[0m\u001b[0;34m\u001b[0m\u001b[0m\n\u001b[0;32m-> 6249\u001b[0;31m                 \u001b[0;32mraise\u001b[0m \u001b[0mKeyError\u001b[0m\u001b[0;34m(\u001b[0m\u001b[0;34mf\"None of [{key}] are in the [{axis_name}]\"\u001b[0m\u001b[0;34m)\u001b[0m\u001b[0;34m\u001b[0m\u001b[0;34m\u001b[0m\u001b[0m\n\u001b[0m\u001b[1;32m   6250\u001b[0m \u001b[0;34m\u001b[0m\u001b[0m\n\u001b[1;32m   6251\u001b[0m             \u001b[0mnot_found\u001b[0m \u001b[0;34m=\u001b[0m \u001b[0mlist\u001b[0m\u001b[0;34m(\u001b[0m\u001b[0mensure_index\u001b[0m\u001b[0;34m(\u001b[0m\u001b[0mkey\u001b[0m\u001b[0;34m)\u001b[0m\u001b[0;34m[\u001b[0m\u001b[0mmissing_mask\u001b[0m\u001b[0;34m.\u001b[0m\u001b[0mnonzero\u001b[0m\u001b[0;34m(\u001b[0m\u001b[0;34m)\u001b[0m\u001b[0;34m[\u001b[0m\u001b[0;36m0\u001b[0m\u001b[0;34m]\u001b[0m\u001b[0;34m]\u001b[0m\u001b[0;34m.\u001b[0m\u001b[0munique\u001b[0m\u001b[0;34m(\u001b[0m\u001b[0;34m)\u001b[0m\u001b[0;34m)\u001b[0m\u001b[0;34m\u001b[0m\u001b[0;34m\u001b[0m\u001b[0m\n",
            "\u001b[0;31mKeyError\u001b[0m: \"None of [Index(['Holiday_Flag'], dtype='object')] are in the [columns]\""
          ]
        }
      ]
    },
    {
      "cell_type": "markdown",
      "source": [
        "Świeci się błąd, ponieważ kolumna Holiday_Flag została już roznita na dwie kolumny, co się wiążę z nieistnieniem tej kolumny w zbiorze.\n",
        "\n"
      ],
      "metadata": {
        "id": "15EliOzCU2DY"
      }
    },
    {
      "cell_type": "markdown",
      "source": [
        "8. Ustalono kolumnę Weekly_Sales na kolumnę docelową. Pozostałe kolumny posłużą jako\n",
        "cechy."
      ],
      "metadata": {
        "id": "fh9kXy5cVDLN"
      }
    },
    {
      "cell_type": "code",
      "source": [
        "# Zmienna docelowa\n",
        "y = df['Weekly_Sales']\n",
        "\n",
        "# Cechy\n",
        "x = df.drop(columns = ['Weekly_Sales'])"
      ],
      "metadata": {
        "id": "SmepgSeyVCat"
      },
      "execution_count": 27,
      "outputs": []
    },
    {
      "cell_type": "markdown",
      "source": [
        "9. Użyto funkcji train_test_split ze scikit-learn, aby podzielić dane (np. w proporcji 80/20\n",
        "lub 70/30) i ustalono stały random_state dla powtarzalności wyników."
      ],
      "metadata": {
        "id": "4ib6ylunVg5w"
      }
    },
    {
      "cell_type": "code",
      "source": [
        "from sklearn.model_selection import train_test_split\n",
        "\n",
        "x_train, x_test, y_train, y_test = train_test_split(x, y, test_size=0.2, random_state=42)"
      ],
      "metadata": {
        "id": "-wuLi6sXVn0s"
      },
      "execution_count": 28,
      "outputs": []
    },
    {
      "cell_type": "markdown",
      "source": [
        "10. Zainicjalizowano model regresji liniowej, np. przy użyciu LinearRegression ze scikit-learn. Wytrenuowano model na danych treningowych, używając metody .fit()."
      ],
      "metadata": {
        "id": "WiQOpoIrVy5F"
      }
    },
    {
      "cell_type": "code",
      "source": [
        "from sklearn.linear_model import LinearRegression\n",
        "\n",
        "# Inicjalizacja modelu\n",
        "model = LinearRegression()\n",
        "\n",
        "# Trenowanie modelu\n",
        "model.fit(x_train, y_train)"
      ],
      "metadata": {
        "colab": {
          "base_uri": "https://localhost:8080/",
          "height": 80
        },
        "id": "na7qR_UyV4la",
        "outputId": "231a5a69-eb5e-416d-9f82-032c29ad904b"
      },
      "execution_count": 29,
      "outputs": [
        {
          "output_type": "execute_result",
          "data": {
            "text/plain": [
              "LinearRegression()"
            ],
            "text/html": [
              "<style>#sk-container-id-1 {\n",
              "  /* Definition of color scheme common for light and dark mode */\n",
              "  --sklearn-color-text: #000;\n",
              "  --sklearn-color-text-muted: #666;\n",
              "  --sklearn-color-line: gray;\n",
              "  /* Definition of color scheme for unfitted estimators */\n",
              "  --sklearn-color-unfitted-level-0: #fff5e6;\n",
              "  --sklearn-color-unfitted-level-1: #f6e4d2;\n",
              "  --sklearn-color-unfitted-level-2: #ffe0b3;\n",
              "  --sklearn-color-unfitted-level-3: chocolate;\n",
              "  /* Definition of color scheme for fitted estimators */\n",
              "  --sklearn-color-fitted-level-0: #f0f8ff;\n",
              "  --sklearn-color-fitted-level-1: #d4ebff;\n",
              "  --sklearn-color-fitted-level-2: #b3dbfd;\n",
              "  --sklearn-color-fitted-level-3: cornflowerblue;\n",
              "\n",
              "  /* Specific color for light theme */\n",
              "  --sklearn-color-text-on-default-background: var(--sg-text-color, var(--theme-code-foreground, var(--jp-content-font-color1, black)));\n",
              "  --sklearn-color-background: var(--sg-background-color, var(--theme-background, var(--jp-layout-color0, white)));\n",
              "  --sklearn-color-border-box: var(--sg-text-color, var(--theme-code-foreground, var(--jp-content-font-color1, black)));\n",
              "  --sklearn-color-icon: #696969;\n",
              "\n",
              "  @media (prefers-color-scheme: dark) {\n",
              "    /* Redefinition of color scheme for dark theme */\n",
              "    --sklearn-color-text-on-default-background: var(--sg-text-color, var(--theme-code-foreground, var(--jp-content-font-color1, white)));\n",
              "    --sklearn-color-background: var(--sg-background-color, var(--theme-background, var(--jp-layout-color0, #111)));\n",
              "    --sklearn-color-border-box: var(--sg-text-color, var(--theme-code-foreground, var(--jp-content-font-color1, white)));\n",
              "    --sklearn-color-icon: #878787;\n",
              "  }\n",
              "}\n",
              "\n",
              "#sk-container-id-1 {\n",
              "  color: var(--sklearn-color-text);\n",
              "}\n",
              "\n",
              "#sk-container-id-1 pre {\n",
              "  padding: 0;\n",
              "}\n",
              "\n",
              "#sk-container-id-1 input.sk-hidden--visually {\n",
              "  border: 0;\n",
              "  clip: rect(1px 1px 1px 1px);\n",
              "  clip: rect(1px, 1px, 1px, 1px);\n",
              "  height: 1px;\n",
              "  margin: -1px;\n",
              "  overflow: hidden;\n",
              "  padding: 0;\n",
              "  position: absolute;\n",
              "  width: 1px;\n",
              "}\n",
              "\n",
              "#sk-container-id-1 div.sk-dashed-wrapped {\n",
              "  border: 1px dashed var(--sklearn-color-line);\n",
              "  margin: 0 0.4em 0.5em 0.4em;\n",
              "  box-sizing: border-box;\n",
              "  padding-bottom: 0.4em;\n",
              "  background-color: var(--sklearn-color-background);\n",
              "}\n",
              "\n",
              "#sk-container-id-1 div.sk-container {\n",
              "  /* jupyter's `normalize.less` sets `[hidden] { display: none; }`\n",
              "     but bootstrap.min.css set `[hidden] { display: none !important; }`\n",
              "     so we also need the `!important` here to be able to override the\n",
              "     default hidden behavior on the sphinx rendered scikit-learn.org.\n",
              "     See: https://github.com/scikit-learn/scikit-learn/issues/21755 */\n",
              "  display: inline-block !important;\n",
              "  position: relative;\n",
              "}\n",
              "\n",
              "#sk-container-id-1 div.sk-text-repr-fallback {\n",
              "  display: none;\n",
              "}\n",
              "\n",
              "div.sk-parallel-item,\n",
              "div.sk-serial,\n",
              "div.sk-item {\n",
              "  /* draw centered vertical line to link estimators */\n",
              "  background-image: linear-gradient(var(--sklearn-color-text-on-default-background), var(--sklearn-color-text-on-default-background));\n",
              "  background-size: 2px 100%;\n",
              "  background-repeat: no-repeat;\n",
              "  background-position: center center;\n",
              "}\n",
              "\n",
              "/* Parallel-specific style estimator block */\n",
              "\n",
              "#sk-container-id-1 div.sk-parallel-item::after {\n",
              "  content: \"\";\n",
              "  width: 100%;\n",
              "  border-bottom: 2px solid var(--sklearn-color-text-on-default-background);\n",
              "  flex-grow: 1;\n",
              "}\n",
              "\n",
              "#sk-container-id-1 div.sk-parallel {\n",
              "  display: flex;\n",
              "  align-items: stretch;\n",
              "  justify-content: center;\n",
              "  background-color: var(--sklearn-color-background);\n",
              "  position: relative;\n",
              "}\n",
              "\n",
              "#sk-container-id-1 div.sk-parallel-item {\n",
              "  display: flex;\n",
              "  flex-direction: column;\n",
              "}\n",
              "\n",
              "#sk-container-id-1 div.sk-parallel-item:first-child::after {\n",
              "  align-self: flex-end;\n",
              "  width: 50%;\n",
              "}\n",
              "\n",
              "#sk-container-id-1 div.sk-parallel-item:last-child::after {\n",
              "  align-self: flex-start;\n",
              "  width: 50%;\n",
              "}\n",
              "\n",
              "#sk-container-id-1 div.sk-parallel-item:only-child::after {\n",
              "  width: 0;\n",
              "}\n",
              "\n",
              "/* Serial-specific style estimator block */\n",
              "\n",
              "#sk-container-id-1 div.sk-serial {\n",
              "  display: flex;\n",
              "  flex-direction: column;\n",
              "  align-items: center;\n",
              "  background-color: var(--sklearn-color-background);\n",
              "  padding-right: 1em;\n",
              "  padding-left: 1em;\n",
              "}\n",
              "\n",
              "\n",
              "/* Toggleable style: style used for estimator/Pipeline/ColumnTransformer box that is\n",
              "clickable and can be expanded/collapsed.\n",
              "- Pipeline and ColumnTransformer use this feature and define the default style\n",
              "- Estimators will overwrite some part of the style using the `sk-estimator` class\n",
              "*/\n",
              "\n",
              "/* Pipeline and ColumnTransformer style (default) */\n",
              "\n",
              "#sk-container-id-1 div.sk-toggleable {\n",
              "  /* Default theme specific background. It is overwritten whether we have a\n",
              "  specific estimator or a Pipeline/ColumnTransformer */\n",
              "  background-color: var(--sklearn-color-background);\n",
              "}\n",
              "\n",
              "/* Toggleable label */\n",
              "#sk-container-id-1 label.sk-toggleable__label {\n",
              "  cursor: pointer;\n",
              "  display: flex;\n",
              "  width: 100%;\n",
              "  margin-bottom: 0;\n",
              "  padding: 0.5em;\n",
              "  box-sizing: border-box;\n",
              "  text-align: center;\n",
              "  align-items: start;\n",
              "  justify-content: space-between;\n",
              "  gap: 0.5em;\n",
              "}\n",
              "\n",
              "#sk-container-id-1 label.sk-toggleable__label .caption {\n",
              "  font-size: 0.6rem;\n",
              "  font-weight: lighter;\n",
              "  color: var(--sklearn-color-text-muted);\n",
              "}\n",
              "\n",
              "#sk-container-id-1 label.sk-toggleable__label-arrow:before {\n",
              "  /* Arrow on the left of the label */\n",
              "  content: \"▸\";\n",
              "  float: left;\n",
              "  margin-right: 0.25em;\n",
              "  color: var(--sklearn-color-icon);\n",
              "}\n",
              "\n",
              "#sk-container-id-1 label.sk-toggleable__label-arrow:hover:before {\n",
              "  color: var(--sklearn-color-text);\n",
              "}\n",
              "\n",
              "/* Toggleable content - dropdown */\n",
              "\n",
              "#sk-container-id-1 div.sk-toggleable__content {\n",
              "  max-height: 0;\n",
              "  max-width: 0;\n",
              "  overflow: hidden;\n",
              "  text-align: left;\n",
              "  /* unfitted */\n",
              "  background-color: var(--sklearn-color-unfitted-level-0);\n",
              "}\n",
              "\n",
              "#sk-container-id-1 div.sk-toggleable__content.fitted {\n",
              "  /* fitted */\n",
              "  background-color: var(--sklearn-color-fitted-level-0);\n",
              "}\n",
              "\n",
              "#sk-container-id-1 div.sk-toggleable__content pre {\n",
              "  margin: 0.2em;\n",
              "  border-radius: 0.25em;\n",
              "  color: var(--sklearn-color-text);\n",
              "  /* unfitted */\n",
              "  background-color: var(--sklearn-color-unfitted-level-0);\n",
              "}\n",
              "\n",
              "#sk-container-id-1 div.sk-toggleable__content.fitted pre {\n",
              "  /* unfitted */\n",
              "  background-color: var(--sklearn-color-fitted-level-0);\n",
              "}\n",
              "\n",
              "#sk-container-id-1 input.sk-toggleable__control:checked~div.sk-toggleable__content {\n",
              "  /* Expand drop-down */\n",
              "  max-height: 200px;\n",
              "  max-width: 100%;\n",
              "  overflow: auto;\n",
              "}\n",
              "\n",
              "#sk-container-id-1 input.sk-toggleable__control:checked~label.sk-toggleable__label-arrow:before {\n",
              "  content: \"▾\";\n",
              "}\n",
              "\n",
              "/* Pipeline/ColumnTransformer-specific style */\n",
              "\n",
              "#sk-container-id-1 div.sk-label input.sk-toggleable__control:checked~label.sk-toggleable__label {\n",
              "  color: var(--sklearn-color-text);\n",
              "  background-color: var(--sklearn-color-unfitted-level-2);\n",
              "}\n",
              "\n",
              "#sk-container-id-1 div.sk-label.fitted input.sk-toggleable__control:checked~label.sk-toggleable__label {\n",
              "  background-color: var(--sklearn-color-fitted-level-2);\n",
              "}\n",
              "\n",
              "/* Estimator-specific style */\n",
              "\n",
              "/* Colorize estimator box */\n",
              "#sk-container-id-1 div.sk-estimator input.sk-toggleable__control:checked~label.sk-toggleable__label {\n",
              "  /* unfitted */\n",
              "  background-color: var(--sklearn-color-unfitted-level-2);\n",
              "}\n",
              "\n",
              "#sk-container-id-1 div.sk-estimator.fitted input.sk-toggleable__control:checked~label.sk-toggleable__label {\n",
              "  /* fitted */\n",
              "  background-color: var(--sklearn-color-fitted-level-2);\n",
              "}\n",
              "\n",
              "#sk-container-id-1 div.sk-label label.sk-toggleable__label,\n",
              "#sk-container-id-1 div.sk-label label {\n",
              "  /* The background is the default theme color */\n",
              "  color: var(--sklearn-color-text-on-default-background);\n",
              "}\n",
              "\n",
              "/* On hover, darken the color of the background */\n",
              "#sk-container-id-1 div.sk-label:hover label.sk-toggleable__label {\n",
              "  color: var(--sklearn-color-text);\n",
              "  background-color: var(--sklearn-color-unfitted-level-2);\n",
              "}\n",
              "\n",
              "/* Label box, darken color on hover, fitted */\n",
              "#sk-container-id-1 div.sk-label.fitted:hover label.sk-toggleable__label.fitted {\n",
              "  color: var(--sklearn-color-text);\n",
              "  background-color: var(--sklearn-color-fitted-level-2);\n",
              "}\n",
              "\n",
              "/* Estimator label */\n",
              "\n",
              "#sk-container-id-1 div.sk-label label {\n",
              "  font-family: monospace;\n",
              "  font-weight: bold;\n",
              "  display: inline-block;\n",
              "  line-height: 1.2em;\n",
              "}\n",
              "\n",
              "#sk-container-id-1 div.sk-label-container {\n",
              "  text-align: center;\n",
              "}\n",
              "\n",
              "/* Estimator-specific */\n",
              "#sk-container-id-1 div.sk-estimator {\n",
              "  font-family: monospace;\n",
              "  border: 1px dotted var(--sklearn-color-border-box);\n",
              "  border-radius: 0.25em;\n",
              "  box-sizing: border-box;\n",
              "  margin-bottom: 0.5em;\n",
              "  /* unfitted */\n",
              "  background-color: var(--sklearn-color-unfitted-level-0);\n",
              "}\n",
              "\n",
              "#sk-container-id-1 div.sk-estimator.fitted {\n",
              "  /* fitted */\n",
              "  background-color: var(--sklearn-color-fitted-level-0);\n",
              "}\n",
              "\n",
              "/* on hover */\n",
              "#sk-container-id-1 div.sk-estimator:hover {\n",
              "  /* unfitted */\n",
              "  background-color: var(--sklearn-color-unfitted-level-2);\n",
              "}\n",
              "\n",
              "#sk-container-id-1 div.sk-estimator.fitted:hover {\n",
              "  /* fitted */\n",
              "  background-color: var(--sklearn-color-fitted-level-2);\n",
              "}\n",
              "\n",
              "/* Specification for estimator info (e.g. \"i\" and \"?\") */\n",
              "\n",
              "/* Common style for \"i\" and \"?\" */\n",
              "\n",
              ".sk-estimator-doc-link,\n",
              "a:link.sk-estimator-doc-link,\n",
              "a:visited.sk-estimator-doc-link {\n",
              "  float: right;\n",
              "  font-size: smaller;\n",
              "  line-height: 1em;\n",
              "  font-family: monospace;\n",
              "  background-color: var(--sklearn-color-background);\n",
              "  border-radius: 1em;\n",
              "  height: 1em;\n",
              "  width: 1em;\n",
              "  text-decoration: none !important;\n",
              "  margin-left: 0.5em;\n",
              "  text-align: center;\n",
              "  /* unfitted */\n",
              "  border: var(--sklearn-color-unfitted-level-1) 1pt solid;\n",
              "  color: var(--sklearn-color-unfitted-level-1);\n",
              "}\n",
              "\n",
              ".sk-estimator-doc-link.fitted,\n",
              "a:link.sk-estimator-doc-link.fitted,\n",
              "a:visited.sk-estimator-doc-link.fitted {\n",
              "  /* fitted */\n",
              "  border: var(--sklearn-color-fitted-level-1) 1pt solid;\n",
              "  color: var(--sklearn-color-fitted-level-1);\n",
              "}\n",
              "\n",
              "/* On hover */\n",
              "div.sk-estimator:hover .sk-estimator-doc-link:hover,\n",
              ".sk-estimator-doc-link:hover,\n",
              "div.sk-label-container:hover .sk-estimator-doc-link:hover,\n",
              ".sk-estimator-doc-link:hover {\n",
              "  /* unfitted */\n",
              "  background-color: var(--sklearn-color-unfitted-level-3);\n",
              "  color: var(--sklearn-color-background);\n",
              "  text-decoration: none;\n",
              "}\n",
              "\n",
              "div.sk-estimator.fitted:hover .sk-estimator-doc-link.fitted:hover,\n",
              ".sk-estimator-doc-link.fitted:hover,\n",
              "div.sk-label-container:hover .sk-estimator-doc-link.fitted:hover,\n",
              ".sk-estimator-doc-link.fitted:hover {\n",
              "  /* fitted */\n",
              "  background-color: var(--sklearn-color-fitted-level-3);\n",
              "  color: var(--sklearn-color-background);\n",
              "  text-decoration: none;\n",
              "}\n",
              "\n",
              "/* Span, style for the box shown on hovering the info icon */\n",
              ".sk-estimator-doc-link span {\n",
              "  display: none;\n",
              "  z-index: 9999;\n",
              "  position: relative;\n",
              "  font-weight: normal;\n",
              "  right: .2ex;\n",
              "  padding: .5ex;\n",
              "  margin: .5ex;\n",
              "  width: min-content;\n",
              "  min-width: 20ex;\n",
              "  max-width: 50ex;\n",
              "  color: var(--sklearn-color-text);\n",
              "  box-shadow: 2pt 2pt 4pt #999;\n",
              "  /* unfitted */\n",
              "  background: var(--sklearn-color-unfitted-level-0);\n",
              "  border: .5pt solid var(--sklearn-color-unfitted-level-3);\n",
              "}\n",
              "\n",
              ".sk-estimator-doc-link.fitted span {\n",
              "  /* fitted */\n",
              "  background: var(--sklearn-color-fitted-level-0);\n",
              "  border: var(--sklearn-color-fitted-level-3);\n",
              "}\n",
              "\n",
              ".sk-estimator-doc-link:hover span {\n",
              "  display: block;\n",
              "}\n",
              "\n",
              "/* \"?\"-specific style due to the `<a>` HTML tag */\n",
              "\n",
              "#sk-container-id-1 a.estimator_doc_link {\n",
              "  float: right;\n",
              "  font-size: 1rem;\n",
              "  line-height: 1em;\n",
              "  font-family: monospace;\n",
              "  background-color: var(--sklearn-color-background);\n",
              "  border-radius: 1rem;\n",
              "  height: 1rem;\n",
              "  width: 1rem;\n",
              "  text-decoration: none;\n",
              "  /* unfitted */\n",
              "  color: var(--sklearn-color-unfitted-level-1);\n",
              "  border: var(--sklearn-color-unfitted-level-1) 1pt solid;\n",
              "}\n",
              "\n",
              "#sk-container-id-1 a.estimator_doc_link.fitted {\n",
              "  /* fitted */\n",
              "  border: var(--sklearn-color-fitted-level-1) 1pt solid;\n",
              "  color: var(--sklearn-color-fitted-level-1);\n",
              "}\n",
              "\n",
              "/* On hover */\n",
              "#sk-container-id-1 a.estimator_doc_link:hover {\n",
              "  /* unfitted */\n",
              "  background-color: var(--sklearn-color-unfitted-level-3);\n",
              "  color: var(--sklearn-color-background);\n",
              "  text-decoration: none;\n",
              "}\n",
              "\n",
              "#sk-container-id-1 a.estimator_doc_link.fitted:hover {\n",
              "  /* fitted */\n",
              "  background-color: var(--sklearn-color-fitted-level-3);\n",
              "}\n",
              "</style><div id=\"sk-container-id-1\" class=\"sk-top-container\"><div class=\"sk-text-repr-fallback\"><pre>LinearRegression()</pre><b>In a Jupyter environment, please rerun this cell to show the HTML representation or trust the notebook. <br />On GitHub, the HTML representation is unable to render, please try loading this page with nbviewer.org.</b></div><div class=\"sk-container\" hidden><div class=\"sk-item\"><div class=\"sk-estimator fitted sk-toggleable\"><input class=\"sk-toggleable__control sk-hidden--visually\" id=\"sk-estimator-id-1\" type=\"checkbox\" checked><label for=\"sk-estimator-id-1\" class=\"sk-toggleable__label fitted sk-toggleable__label-arrow\"><div><div>LinearRegression</div></div><div><a class=\"sk-estimator-doc-link fitted\" rel=\"noreferrer\" target=\"_blank\" href=\"https://scikit-learn.org/1.6/modules/generated/sklearn.linear_model.LinearRegression.html\">?<span>Documentation for LinearRegression</span></a><span class=\"sk-estimator-doc-link fitted\">i<span>Fitted</span></span></div></label><div class=\"sk-toggleable__content fitted\"><pre>LinearRegression()</pre></div> </div></div></div></div>"
            ]
          },
          "metadata": {},
          "execution_count": 29
        }
      ]
    },
    {
      "cell_type": "markdown",
      "source": [
        "11. Użyto wytrenowanego modelu, aby przewidzieć wartości sprzedaży na zbiorze\n",
        "testowym lub walidacyjnym."
      ],
      "metadata": {
        "id": "3l6oUWA-WIjy"
      }
    },
    {
      "cell_type": "code",
      "source": [
        "# Predykcja na zbiorze testowym\n",
        "y_pred = model.predict(x_test)\n",
        "\n",
        "# print(y_pred)"
      ],
      "metadata": {
        "colab": {
          "base_uri": "https://localhost:8080/"
        },
        "id": "Ug1jYYy0WSoV",
        "outputId": "1285a86a-d98a-4ce1-fff8-3471692e5106"
      },
      "execution_count": 31,
      "outputs": [
        {
          "output_type": "stream",
          "name": "stdout",
          "text": [
            "[1196174.80018843 1096306.76027313 1261762.99266103 ...  689643.21716126\n",
            " 1264055.28452667 1288523.22805756]\n"
          ]
        }
      ]
    },
    {
      "cell_type": "markdown",
      "source": [
        "12. Oceniono jakość modelu przy użyciu metryk takich jak: Mean Squared Error (MSE), Root\n",
        "Mean Squared Error (RMSE), R² (współczynnik determinacji)."
      ],
      "metadata": {
        "id": "tM_Va5ENWhhs"
      }
    },
    {
      "cell_type": "code",
      "source": [
        "from sklearn.metrics import mean_squared_error, r2_score\n",
        "\n",
        "# Obliczenie MSE\n",
        "mse = mean_squared_error(y_test, y_pred)\n",
        "print(f\"Mean Squared Error: {mse}\")\n",
        "\n",
        "# Obliczenie RMSE\n",
        "rmse = np.sqrt(mse)\n",
        "print(f\"Root Mean Squared Error: {rmse}\")\n",
        "\n",
        "# Obliczenie R^2\n",
        "r2 = r2_score(y_test, y_pred)\n",
        "print(f\"R^2: {r2}\")"
      ],
      "metadata": {
        "colab": {
          "base_uri": "https://localhost:8080/"
        },
        "id": "CfFKger8WnMu",
        "outputId": "7787b3d5-4a8c-4140-a79f-1d90e928ecab"
      },
      "execution_count": 34,
      "outputs": [
        {
          "output_type": "stream",
          "name": "stdout",
          "text": [
            "Mean Squared Error: 274455221280.66055\n",
            "Root Mean Squared Error: 523884.74045410077\n",
            "R^2: 0.1480635340595079\n"
          ]
        }
      ]
    },
    {
      "cell_type": "markdown",
      "source": [
        "13. Zastosowano technikę kroswalidacji (np. k-fold cross-validation), aby upewnić się, że\n",
        "model nie jest przeuczony i jego wyniki są stabilne."
      ],
      "metadata": {
        "id": "YEfzJBWEXFvs"
      }
    },
    {
      "cell_type": "code",
      "source": [
        "from sklearn.model_selection import cross_val_score, KFold\n",
        "from sklearn.ensemble import RandomForestRegressor\n",
        "\n",
        "kf = KFold(n_splits=5, shuffle=True, random_state=42)  # KFold z 5 podziałami\n",
        "cv_scores = cross_val_score(model, x, y, cv=kf, scoring='neg_mean_squared_error')\n",
        "\n",
        "# Konwersja wyników do wartości pozytywnych, ponieważ cross_val_score zwraca ujemne MSE\n",
        "cv_scores = -cv_scores\n",
        "\n",
        "# Wyniki\n",
        "print(f\"Cross-validation MSE scores for each fold: {cv_scores}\")\n",
        "print(f\"Mean MSE across all folds: {np.mean(cv_scores)}\")\n",
        "print(f\"Standard deviation of MSE: {np.std(cv_scores)}\")"
      ],
      "metadata": {
        "colab": {
          "base_uri": "https://localhost:8080/"
        },
        "id": "CHxHaT7RXNxg",
        "outputId": "0f3b97ef-d4de-4ee0-c31e-9df2f36e314e"
      },
      "execution_count": 36,
      "outputs": [
        {
          "output_type": "stream",
          "name": "stdout",
          "text": [
            "Cross-validation MSE scores for each fold: [2.74455221e+11 2.67685141e+11 2.81131079e+11 2.71818843e+11\n",
            " 2.74316196e+11]\n",
            "Mean MSE across all folds: 273881296052.5309\n",
            "Standard deviation of MSE: 4375475274.425631\n"
          ]
        }
      ]
    },
    {
      "cell_type": "markdown",
      "source": [
        "14. Dokonano analizy, które cechy mają największy wpływ na sprzedaż – sprawdź\n",
        "współczynniki regresji."
      ],
      "metadata": {
        "id": "_F9PI3_MXomu"
      }
    },
    {
      "cell_type": "code",
      "source": [
        "import pandas as pd\n",
        "from sklearn.linear_model import LinearRegression\n",
        "from sklearn.model_selection import train_test_split\n",
        "from sklearn.preprocessing import StandardScaler\n",
        "\n",
        "# Zakładając, że masz dane X (cechy) i y (target - sprzedaż)\n",
        "# X - cechy, y - sprzedaż\n",
        "\n",
        "# Podział danych na cechy i target\n",
        "X = df.drop(columns=['Weekly_Sales'])  # Zmienne wejściowe (wszystkie kolumny oprócz 'Weekly_Sales')\n",
        "y = df['Weekly_Sales']  # Target (sprzedaż)\n",
        "\n",
        "# Opcjonalnie: Standaryzacja danych (w przypadku, gdy cechy mają różne jednostki)\n",
        "scaler = StandardScaler()\n",
        "X_scaled = scaler.fit_transform(X)\n",
        "\n",
        "# Podział na dane treningowe i testowe (80% - 20%)\n",
        "X_train, X_test, y_train, y_test = train_test_split(X_scaled, y, test_size=0.2, random_state=42)\n",
        "\n",
        "# Inicjalizacja i trenowanie modelu regresji liniowej\n",
        "model = LinearRegression()\n",
        "model.fit(X_train, y_train)\n",
        "\n",
        "# Współczynniki regresji\n",
        "coefficients = model.coef_\n",
        "\n",
        "# Tworzenie DataFrame z cechami i ich współczynnikami\n",
        "feature_importance = pd.DataFrame({\n",
        "    'Feature': X.columns,\n",
        "    'Coefficient': coefficients\n",
        "})\n",
        "\n",
        "# Sortowanie cech na podstawie wartości bezwzględnej współczynnika (aby zobaczyć, które cechy mają największy wpływ)\n",
        "feature_importance['Abs_Coefficient'] = feature_importance['Coefficient'].abs()\n",
        "feature_importance = feature_importance.sort_values(by='Abs_Coefficient', ascending=False)\n",
        "\n",
        "# Wyświetlenie wyników\n",
        "print(feature_importance)"
      ],
      "metadata": {
        "colab": {
          "base_uri": "https://localhost:8080/"
        },
        "id": "zNtFvDdgXs3J",
        "outputId": "47005c31-2178-42e5-9bd1-58e397e5aa36"
      },
      "execution_count": 37,
      "outputs": [
        {
          "output_type": "stream",
          "name": "stdout",
          "text": [
            "          Feature    Coefficient  Abs_Coefficient\n",
            "0           Store -195841.500136    195841.500136\n",
            "4             CPI  -91231.605847     91231.605847\n",
            "5    Unemployment  -45960.015084     45960.015084\n",
            "2     Temperature  -14051.860856     14051.860856\n",
            "6  Holiday_Flag_0   -9732.147573      9732.147573\n",
            "7  Holiday_Flag_1    9732.147573      9732.147573\n",
            "3      Fuel_Price   -2136.465544      2136.465544\n",
            "1            Date       0.000000         0.000000\n"
          ]
        }
      ]
    },
    {
      "cell_type": "markdown",
      "source": [
        "# Zadanie 2\n",
        "*Prognozowanie sprzedaży z użyciem regresji Lasso:*"
      ],
      "metadata": {
        "id": "l8rrSaopX044"
      }
    },
    {
      "cell_type": "markdown",
      "source": [
        "a) usuń obserwację z brakującymi wartościami"
      ],
      "metadata": {
        "id": "yImUxqs_YGw6"
      }
    },
    {
      "cell_type": "code",
      "source": [
        "# Usuń obserwacje z brakującymi wartościami\n",
        "df = df.dropna()\n",
        "\n",
        "print(df.isnull().sum())"
      ],
      "metadata": {
        "colab": {
          "base_uri": "https://localhost:8080/"
        },
        "id": "quWC1jHUYMK-",
        "outputId": "fde26dd2-8bcc-4c5f-db9f-ad9604526acb"
      },
      "execution_count": 38,
      "outputs": [
        {
          "output_type": "stream",
          "name": "stdout",
          "text": [
            "Store             0\n",
            "Date              0\n",
            "Weekly_Sales      0\n",
            "Temperature       0\n",
            "Fuel_Price        0\n",
            "CPI               0\n",
            "Unemployment      0\n",
            "Holiday_Flag_0    0\n",
            "Holiday_Flag_1    0\n",
            "dtype: int64\n"
          ]
        }
      ]
    },
    {
      "cell_type": "markdown",
      "source": [
        "b) upewnij się, że kolumny z datą są przekonwertowane na typ datetime oraz, że\n",
        "zmienne kategoryczne mają odpowiedni typ."
      ],
      "metadata": {
        "id": "-y7bGgQHYQgF"
      }
    },
    {
      "cell_type": "code",
      "source": [
        "# Konwersja kolumny Date do typu datetime z obsługą błędów\n",
        "df['Date'] = pd.to_datetime(df['Date'], format='%m-%d-%Y', errors='coerce')\n",
        "\n",
        "# Konwersja zmiennych kategorycznych na typ 'category'\n",
        "df['Store'] = df['Store'].astype('category')\n",
        "df['Holiday_Flag_0'] = df['Holiday_Flag_0'].astype('category')\n",
        "\n",
        "# Sprawdzenie typów danych\n",
        "print(df.dtypes)"
      ],
      "metadata": {
        "colab": {
          "base_uri": "https://localhost:8080/"
        },
        "id": "tl4PT4cDYUd-",
        "outputId": "3f920644-c070-46ce-a139-f19a5229c026"
      },
      "execution_count": 44,
      "outputs": [
        {
          "output_type": "stream",
          "name": "stdout",
          "text": [
            "Store                   category\n",
            "Date              datetime64[ns]\n",
            "Weekly_Sales             float64\n",
            "Temperature              float64\n",
            "Fuel_Price               float64\n",
            "CPI                      float64\n",
            "Unemployment             float64\n",
            "Holiday_Flag_0          category\n",
            "Holiday_Flag_1              bool\n",
            "dtype: object\n"
          ]
        }
      ]
    },
    {
      "cell_type": "markdown",
      "source": [
        "c) zastosuj one-hot encoding, aby zamienić zmienne kategoryczne na postać numeryczną"
      ],
      "metadata": {
        "id": "hPOla_JtY_VR"
      }
    },
    {
      "cell_type": "code",
      "source": [
        "# Zastosowanie one-hot encoding dla zmiennych kategorycznych\n",
        "df = pd.get_dummies(df, columns=['Holiday_Flag_0', 'Store'], drop_first=True)\n",
        "\n",
        "# Podgląd danych po one-hot encoding\n",
        "print(df.head())\n"
      ],
      "metadata": {
        "colab": {
          "base_uri": "https://localhost:8080/"
        },
        "id": "Xec58qTwZC4V",
        "outputId": "aa676004-1d3c-49e4-d77d-5a2cdbf82b4f"
      },
      "execution_count": 45,
      "outputs": [
        {
          "output_type": "stream",
          "name": "stdout",
          "text": [
            "  Date  Weekly_Sales  Temperature  Fuel_Price         CPI  Unemployment  \\\n",
            "0  NaT    1643690.90        42.31       2.572  211.096358         8.106   \n",
            "1  NaT    1641957.44        38.51       2.548  211.242170         8.106   \n",
            "2  NaT    1611968.17        39.93       2.514  211.289143         8.106   \n",
            "3  NaT    1409727.59        46.63       2.561  211.319643         8.106   \n",
            "4  NaT    1554806.68        46.50       2.625  211.350143         8.106   \n",
            "\n",
            "   Holiday_Flag_1  Holiday_Flag_0_True  Store_1  Store_2  ...  Store_35  \\\n",
            "0           False                 True    False    False  ...     False   \n",
            "1            True                False    False    False  ...     False   \n",
            "2           False                 True    False    False  ...     False   \n",
            "3           False                 True    False    False  ...     False   \n",
            "4           False                 True    False    False  ...     False   \n",
            "\n",
            "   Store_36  Store_37  Store_38  Store_39  Store_40  Store_41  Store_42  \\\n",
            "0     False     False     False     False     False     False     False   \n",
            "1     False     False     False     False     False     False     False   \n",
            "2     False     False     False     False     False     False     False   \n",
            "3     False     False     False     False     False     False     False   \n",
            "4     False     False     False     False     False     False     False   \n",
            "\n",
            "   Store_43  Store_44  \n",
            "0     False     False  \n",
            "1     False     False  \n",
            "2     False     False  \n",
            "3     False     False  \n",
            "4     False     False  \n",
            "\n",
            "[5 rows x 52 columns]\n"
          ]
        }
      ]
    },
    {
      "cell_type": "markdown",
      "source": [
        "d) wykonaj standaryzację cech za pomocą StandardScaler (wyklucz kolumnę z datą)"
      ],
      "metadata": {
        "id": "nMAaB7LeZG1N"
      }
    },
    {
      "cell_type": "code",
      "source": [
        "from sklearn.preprocessing import StandardScaler\n",
        "\n",
        "# Wykluczenie kolumny z datą\n",
        "X = df.drop(columns=['Date', 'Weekly_Sales'])\n",
        "y = df['Weekly_Sales']\n",
        "\n",
        "# Standaryzacja cech (poza kolumną 'Date')\n",
        "scaler = StandardScaler()\n",
        "X_scaled = scaler.fit_transform(X)\n",
        "\n",
        "# Sprawdzenie wyników\n",
        "print(X_scaled[:5])"
      ],
      "metadata": {
        "colab": {
          "base_uri": "https://localhost:8080/"
        },
        "id": "7tuWT-xHZLNq",
        "outputId": "19100d2d-ff95-4d5b-a47f-7996385f5a94"
      },
      "execution_count": 46,
      "outputs": [
        {
          "output_type": "stream",
          "name": "stdout",
          "text": [
            "[[-0.99513556 -1.71379998  1.00417522  0.05696366 -0.27420425  0.27420425\n",
            "  -0.15075567 -0.15075567 -0.15075567 -0.15075567 -0.15075567 -0.15075567\n",
            "  -0.15075567 -0.15075567 -0.15075567 -0.15075567 -0.15075567 -0.15075567\n",
            "  -0.15075567 -0.15075567 -0.15075567 -0.15075567 -0.15075567 -0.15075567\n",
            "  -0.15075567 -0.15075567 -0.15075567 -0.15075567 -0.15075567 -0.15075567\n",
            "  -0.15075567 -0.15075567 -0.15075567 -0.15075567 -0.15075567 -0.15075567\n",
            "  -0.15075567 -0.15075567 -0.15075567 -0.15075567 -0.15075567 -0.15075567\n",
            "  -0.15075567 -0.15075567 -0.15075567 -0.15075567 -0.15075567 -0.15075567\n",
            "  -0.15075567 -0.15075567]\n",
            " [-1.20117022 -1.76608938  1.00788038  0.05696366  3.64691651 -3.64691651\n",
            "  -0.15075567 -0.15075567 -0.15075567 -0.15075567 -0.15075567 -0.15075567\n",
            "  -0.15075567 -0.15075567 -0.15075567 -0.15075567 -0.15075567 -0.15075567\n",
            "  -0.15075567 -0.15075567 -0.15075567 -0.15075567 -0.15075567 -0.15075567\n",
            "  -0.15075567 -0.15075567 -0.15075567 -0.15075567 -0.15075567 -0.15075567\n",
            "  -0.15075567 -0.15075567 -0.15075567 -0.15075567 -0.15075567 -0.15075567\n",
            "  -0.15075567 -0.15075567 -0.15075567 -0.15075567 -0.15075567 -0.15075567\n",
            "  -0.15075567 -0.15075567 -0.15075567 -0.15075567 -0.15075567 -0.15075567\n",
            "  -0.15075567 -0.15075567]\n",
            " [-1.12417832 -1.84016603  1.009074    0.05696366 -0.27420425  0.27420425\n",
            "  -0.15075567 -0.15075567 -0.15075567 -0.15075567 -0.15075567 -0.15075567\n",
            "  -0.15075567 -0.15075567 -0.15075567 -0.15075567 -0.15075567 -0.15075567\n",
            "  -0.15075567 -0.15075567 -0.15075567 -0.15075567 -0.15075567 -0.15075567\n",
            "  -0.15075567 -0.15075567 -0.15075567 -0.15075567 -0.15075567 -0.15075567\n",
            "  -0.15075567 -0.15075567 -0.15075567 -0.15075567 -0.15075567 -0.15075567\n",
            "  -0.15075567 -0.15075567 -0.15075567 -0.15075567 -0.15075567 -0.15075567\n",
            "  -0.15075567 -0.15075567 -0.15075567 -0.15075567 -0.15075567 -0.15075567\n",
            "  -0.15075567 -0.15075567]\n",
            " [-0.7609067  -1.73776595  1.00984902  0.05696366 -0.27420425  0.27420425\n",
            "  -0.15075567 -0.15075567 -0.15075567 -0.15075567 -0.15075567 -0.15075567\n",
            "  -0.15075567 -0.15075567 -0.15075567 -0.15075567 -0.15075567 -0.15075567\n",
            "  -0.15075567 -0.15075567 -0.15075567 -0.15075567 -0.15075567 -0.15075567\n",
            "  -0.15075567 -0.15075567 -0.15075567 -0.15075567 -0.15075567 -0.15075567\n",
            "  -0.15075567 -0.15075567 -0.15075567 -0.15075567 -0.15075567 -0.15075567\n",
            "  -0.15075567 -0.15075567 -0.15075567 -0.15075567 -0.15075567 -0.15075567\n",
            "  -0.15075567 -0.15075567 -0.15075567 -0.15075567 -0.15075567 -0.15075567\n",
            "  -0.15075567 -0.15075567]\n",
            " [-0.76795525 -1.59832755  1.01062404  0.05696366 -0.27420425  0.27420425\n",
            "  -0.15075567 -0.15075567 -0.15075567 -0.15075567 -0.15075567 -0.15075567\n",
            "  -0.15075567 -0.15075567 -0.15075567 -0.15075567 -0.15075567 -0.15075567\n",
            "  -0.15075567 -0.15075567 -0.15075567 -0.15075567 -0.15075567 -0.15075567\n",
            "  -0.15075567 -0.15075567 -0.15075567 -0.15075567 -0.15075567 -0.15075567\n",
            "  -0.15075567 -0.15075567 -0.15075567 -0.15075567 -0.15075567 -0.15075567\n",
            "  -0.15075567 -0.15075567 -0.15075567 -0.15075567 -0.15075567 -0.15075567\n",
            "  -0.15075567 -0.15075567 -0.15075567 -0.15075567 -0.15075567 -0.15075567\n",
            "  -0.15075567 -0.15075567]]\n"
          ]
        }
      ]
    },
    {
      "cell_type": "markdown",
      "source": [
        "e) podziel dane na zbiór treningowy i walidacyjny (np. 70/30)"
      ],
      "metadata": {
        "id": "3mCMyzfDZQe6"
      }
    },
    {
      "cell_type": "code",
      "source": [
        "from sklearn.model_selection import train_test_split\n",
        "\n",
        "# Podział danych na zbiór treningowy i walidacyjny (70/30)\n",
        "X_train, X_test, y_train, y_test = train_test_split(X_scaled, y, test_size=0.3, random_state=42)\n",
        "\n",
        "# Podgląd wymiarów zbiorów\n",
        "print(f\"Treningowy zbiór cech: {X_train.shape}\")\n",
        "print(f\"Walidacyjny zbiór cech: {X_test.shape}\")"
      ],
      "metadata": {
        "colab": {
          "base_uri": "https://localhost:8080/"
        },
        "id": "EcZaJ3fUZRuV",
        "outputId": "97408339-8143-4162-80b6-2ef9a580a5eb"
      },
      "execution_count": 47,
      "outputs": [
        {
          "output_type": "stream",
          "name": "stdout",
          "text": [
            "Treningowy zbiór cech: (4504, 50)\n",
            "Walidacyjny zbiór cech: (1931, 50)\n"
          ]
        }
      ]
    },
    {
      "cell_type": "markdown",
      "source": [
        "f) użyj funkcji LassoCV, która wykonuje kroswalidację, aby znaleźć optymalną wartość parametru alfa"
      ],
      "metadata": {
        "id": "GoTq1RF1ZWus"
      }
    },
    {
      "cell_type": "code",
      "source": [
        "from sklearn.linear_model import LassoCV\n",
        "\n",
        "# Użycie LassoCV do znalezienia optymalnej wartości parametru alpha\n",
        "lasso = LassoCV(cv=5, random_state=42)\n",
        "lasso.fit(X_train, y_train)\n",
        "\n",
        "# Optymalna wartość alpha\n",
        "print(f\"Optymalna wartość alpha: {lasso.alpha_}\")"
      ],
      "metadata": {
        "colab": {
          "base_uri": "https://localhost:8080/"
        },
        "id": "syqA8uoFZbGk",
        "outputId": "cdb84406-36b3-4316-e1e0-5b1fff0ae336"
      },
      "execution_count": 48,
      "outputs": [
        {
          "output_type": "stream",
          "name": "stdout",
          "text": [
            "Optymalna wartość alpha: 165.6402849185534\n"
          ]
        }
      ]
    },
    {
      "cell_type": "markdown",
      "source": [
        "g) Wytrenuj model na zbiorze treningowym\n",
        "\n",
        "Model jest **już wytrenowany** przez funkcję fit() w punkcie f."
      ],
      "metadata": {
        "id": "lS--CuXeZeir"
      }
    },
    {
      "cell_type": "markdown",
      "source": [
        "h) użyj wytrenowanego modelu do przewidzenia wartości sprzedaży na zbiorze walidacyjnym"
      ],
      "metadata": {
        "id": "YPPPTQI5Zm5T"
      }
    },
    {
      "cell_type": "code",
      "source": [
        "# Predykcja na zbiorze walidacyjnym\n",
        "y_pred = lasso.predict(X_test)\n",
        "\n",
        "# Podgląd pierwszych przewidywanych wyników\n",
        "print(y_pred[:5])"
      ],
      "metadata": {
        "colab": {
          "base_uri": "https://localhost:8080/"
        },
        "id": "4L4diDbqZpua",
        "outputId": "0679a553-e657-4640-96ab-1d861e6b6f2b"
      },
      "execution_count": 49,
      "outputs": [
        {
          "output_type": "stream",
          "name": "stdout",
          "text": [
            "[1102821.41496564 1336045.58259449 1926474.80616304 1005895.94659568\n",
            "  371529.7490105 ]\n"
          ]
        }
      ]
    },
    {
      "cell_type": "markdown",
      "source": [
        "i) oblicz MSE, RMSE oraz R², aby ocenić jakość modelu"
      ],
      "metadata": {
        "id": "nICeusCwZsSn"
      }
    },
    {
      "cell_type": "code",
      "source": [
        "from sklearn.metrics import mean_squared_error, mean_absolute_error, r2_score\n",
        "import numpy as np\n",
        "\n",
        "# Obliczenie MSE\n",
        "mse = mean_squared_error(y_test, y_pred)\n",
        "rmse = np.sqrt(mse)  # RMSE to pierwiastek kwadratowy z MSE\n",
        "r2 = r2_score(y_test, y_pred)\n",
        "\n",
        "# Wyniki\n",
        "print(f\"MSE: {mse}\")\n",
        "print(f\"RMSE: {rmse}\")\n",
        "print(f\"R²: {r2}\")"
      ],
      "metadata": {
        "colab": {
          "base_uri": "https://localhost:8080/"
        },
        "id": "fR6sF_7hZvrM",
        "outputId": "990a969f-9ba1-4ecb-8e68-97a2c07b6c80"
      },
      "execution_count": 51,
      "outputs": [
        {
          "output_type": "stream",
          "name": "stdout",
          "text": [
            "MSE: 26719788814.788353\n",
            "RMSE: 163461.8879579835\n",
            "R²: 0.9164277019219018\n"
          ]
        }
      ]
    }
  ]
}